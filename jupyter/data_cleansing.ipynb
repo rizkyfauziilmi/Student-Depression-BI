{
 "cells": [
  {
   "cell_type": "code",
   "execution_count": 90,
   "metadata": {},
   "outputs": [
    {
     "name": "stdout",
     "output_type": "stream",
     "text": [
      "Requirement already satisfied: pandas in /home/rizkyfauziilmi/anaconda3/lib/python3.12/site-packages (2.2.2)\n",
      "Requirement already satisfied: numpy>=1.26.0 in /home/rizkyfauziilmi/anaconda3/lib/python3.12/site-packages (from pandas) (1.26.4)\n",
      "Requirement already satisfied: python-dateutil>=2.8.2 in /home/rizkyfauziilmi/anaconda3/lib/python3.12/site-packages (from pandas) (2.9.0.post0)\n",
      "Requirement already satisfied: pytz>=2020.1 in /home/rizkyfauziilmi/anaconda3/lib/python3.12/site-packages (from pandas) (2024.1)\n",
      "Requirement already satisfied: tzdata>=2022.7 in /home/rizkyfauziilmi/anaconda3/lib/python3.12/site-packages (from pandas) (2023.3)\n",
      "Requirement already satisfied: six>=1.5 in /home/rizkyfauziilmi/anaconda3/lib/python3.12/site-packages (from python-dateutil>=2.8.2->pandas) (1.16.0)\n",
      "Note: you may need to restart the kernel to use updated packages.\n"
     ]
    }
   ],
   "source": [
    "%pip install pandas"
   ]
  },
  {
   "cell_type": "markdown",
   "metadata": {},
   "source": [
    "## Import Library\n",
    "- `pandas`: library populer untuk manipulasi dan analisis data dalam Python."
   ]
  },
  {
   "cell_type": "code",
   "execution_count": 91,
   "metadata": {},
   "outputs": [],
   "source": [
    "import pandas as pd"
   ]
  },
  {
   "cell_type": "markdown",
   "metadata": {},
   "source": [
    "## Load Dataset\n",
    "\n",
    "Pada bagian ini, kita akan memuat dataset yang berisi informasi tentang depresi mahasiswa. Dataset ini berisi berbagai kolom yang mencakup informasi demografis, tekanan akademik, tekanan kerja, kepuasan studi, kepuasan kerja, durasi tidur, kebiasaan diet, dan lain-lain."
   ]
  },
  {
   "cell_type": "code",
   "execution_count": 92,
   "metadata": {},
   "outputs": [
    {
     "data": {
      "application/vnd.microsoft.datawrangler.viewer.v0+json": {
       "columns": [
        {
         "name": "index",
         "rawType": "int64",
         "type": "integer"
        },
        {
         "name": "id",
         "rawType": "int64",
         "type": "integer"
        },
        {
         "name": "Gender",
         "rawType": "object",
         "type": "string"
        },
        {
         "name": "Age",
         "rawType": "float64",
         "type": "float"
        },
        {
         "name": "City",
         "rawType": "object",
         "type": "string"
        },
        {
         "name": "Profession",
         "rawType": "object",
         "type": "string"
        },
        {
         "name": "Academic Pressure",
         "rawType": "float64",
         "type": "float"
        },
        {
         "name": "Work Pressure",
         "rawType": "float64",
         "type": "float"
        },
        {
         "name": "CGPA",
         "rawType": "float64",
         "type": "float"
        },
        {
         "name": "Study Satisfaction",
         "rawType": "float64",
         "type": "float"
        },
        {
         "name": "Job Satisfaction",
         "rawType": "float64",
         "type": "float"
        },
        {
         "name": "Sleep Duration",
         "rawType": "object",
         "type": "string"
        },
        {
         "name": "Dietary Habits",
         "rawType": "object",
         "type": "string"
        },
        {
         "name": "Degree",
         "rawType": "object",
         "type": "string"
        },
        {
         "name": "Have you ever had suicidal thoughts ?",
         "rawType": "object",
         "type": "string"
        },
        {
         "name": "Work/Study Hours",
         "rawType": "float64",
         "type": "float"
        },
        {
         "name": "Financial Stress",
         "rawType": "float64",
         "type": "float"
        },
        {
         "name": "Family History of Mental Illness",
         "rawType": "object",
         "type": "string"
        },
        {
         "name": "Depression",
         "rawType": "int64",
         "type": "integer"
        }
       ],
       "conversionMethod": "pd.DataFrame",
       "ref": "ff43d6b0-6922-434b-8655-c3a7068cae8a",
       "rows": [
        [
         "0",
         "2",
         "Male",
         "33.0",
         "Visakhapatnam",
         "Student",
         "5.0",
         "0.0",
         "8.97",
         "2.0",
         "0.0",
         "5-6 hours",
         "Healthy",
         "B.Pharm",
         "Yes",
         "3.0",
         "1.0",
         "No",
         "1"
        ],
        [
         "1",
         "8",
         "Female",
         "24.0",
         "Bangalore",
         "Student",
         "2.0",
         "0.0",
         "5.9",
         "5.0",
         "0.0",
         "5-6 hours",
         "Moderate",
         "BSc",
         "No",
         "3.0",
         "2.0",
         "Yes",
         "0"
        ],
        [
         "2",
         "26",
         "Male",
         "31.0",
         "Srinagar",
         "Student",
         "3.0",
         "0.0",
         "7.03",
         "5.0",
         "0.0",
         "Less than 5 hours",
         "Healthy",
         "BA",
         "No",
         "9.0",
         "1.0",
         "Yes",
         "0"
        ],
        [
         "3",
         "30",
         "Female",
         "28.0",
         "Varanasi",
         "Student",
         "3.0",
         "0.0",
         "5.59",
         "2.0",
         "0.0",
         "7-8 hours",
         "Moderate",
         "BCA",
         "Yes",
         "4.0",
         "5.0",
         "Yes",
         "1"
        ],
        [
         "4",
         "32",
         "Female",
         "25.0",
         "Jaipur",
         "Student",
         "4.0",
         "0.0",
         "8.13",
         "3.0",
         "0.0",
         "5-6 hours",
         "Moderate",
         "M.Tech",
         "Yes",
         "1.0",
         "1.0",
         "No",
         "0"
        ]
       ],
       "shape": {
        "columns": 18,
        "rows": 5
       }
      },
      "text/html": [
       "<div>\n",
       "<style scoped>\n",
       "    .dataframe tbody tr th:only-of-type {\n",
       "        vertical-align: middle;\n",
       "    }\n",
       "\n",
       "    .dataframe tbody tr th {\n",
       "        vertical-align: top;\n",
       "    }\n",
       "\n",
       "    .dataframe thead th {\n",
       "        text-align: right;\n",
       "    }\n",
       "</style>\n",
       "<table border=\"1\" class=\"dataframe\">\n",
       "  <thead>\n",
       "    <tr style=\"text-align: right;\">\n",
       "      <th></th>\n",
       "      <th>id</th>\n",
       "      <th>Gender</th>\n",
       "      <th>Age</th>\n",
       "      <th>City</th>\n",
       "      <th>Profession</th>\n",
       "      <th>Academic Pressure</th>\n",
       "      <th>Work Pressure</th>\n",
       "      <th>CGPA</th>\n",
       "      <th>Study Satisfaction</th>\n",
       "      <th>Job Satisfaction</th>\n",
       "      <th>Sleep Duration</th>\n",
       "      <th>Dietary Habits</th>\n",
       "      <th>Degree</th>\n",
       "      <th>Have you ever had suicidal thoughts ?</th>\n",
       "      <th>Work/Study Hours</th>\n",
       "      <th>Financial Stress</th>\n",
       "      <th>Family History of Mental Illness</th>\n",
       "      <th>Depression</th>\n",
       "    </tr>\n",
       "  </thead>\n",
       "  <tbody>\n",
       "    <tr>\n",
       "      <th>0</th>\n",
       "      <td>2</td>\n",
       "      <td>Male</td>\n",
       "      <td>33.0</td>\n",
       "      <td>Visakhapatnam</td>\n",
       "      <td>Student</td>\n",
       "      <td>5.0</td>\n",
       "      <td>0.0</td>\n",
       "      <td>8.97</td>\n",
       "      <td>2.0</td>\n",
       "      <td>0.0</td>\n",
       "      <td>5-6 hours</td>\n",
       "      <td>Healthy</td>\n",
       "      <td>B.Pharm</td>\n",
       "      <td>Yes</td>\n",
       "      <td>3.0</td>\n",
       "      <td>1.0</td>\n",
       "      <td>No</td>\n",
       "      <td>1</td>\n",
       "    </tr>\n",
       "    <tr>\n",
       "      <th>1</th>\n",
       "      <td>8</td>\n",
       "      <td>Female</td>\n",
       "      <td>24.0</td>\n",
       "      <td>Bangalore</td>\n",
       "      <td>Student</td>\n",
       "      <td>2.0</td>\n",
       "      <td>0.0</td>\n",
       "      <td>5.90</td>\n",
       "      <td>5.0</td>\n",
       "      <td>0.0</td>\n",
       "      <td>5-6 hours</td>\n",
       "      <td>Moderate</td>\n",
       "      <td>BSc</td>\n",
       "      <td>No</td>\n",
       "      <td>3.0</td>\n",
       "      <td>2.0</td>\n",
       "      <td>Yes</td>\n",
       "      <td>0</td>\n",
       "    </tr>\n",
       "    <tr>\n",
       "      <th>2</th>\n",
       "      <td>26</td>\n",
       "      <td>Male</td>\n",
       "      <td>31.0</td>\n",
       "      <td>Srinagar</td>\n",
       "      <td>Student</td>\n",
       "      <td>3.0</td>\n",
       "      <td>0.0</td>\n",
       "      <td>7.03</td>\n",
       "      <td>5.0</td>\n",
       "      <td>0.0</td>\n",
       "      <td>Less than 5 hours</td>\n",
       "      <td>Healthy</td>\n",
       "      <td>BA</td>\n",
       "      <td>No</td>\n",
       "      <td>9.0</td>\n",
       "      <td>1.0</td>\n",
       "      <td>Yes</td>\n",
       "      <td>0</td>\n",
       "    </tr>\n",
       "    <tr>\n",
       "      <th>3</th>\n",
       "      <td>30</td>\n",
       "      <td>Female</td>\n",
       "      <td>28.0</td>\n",
       "      <td>Varanasi</td>\n",
       "      <td>Student</td>\n",
       "      <td>3.0</td>\n",
       "      <td>0.0</td>\n",
       "      <td>5.59</td>\n",
       "      <td>2.0</td>\n",
       "      <td>0.0</td>\n",
       "      <td>7-8 hours</td>\n",
       "      <td>Moderate</td>\n",
       "      <td>BCA</td>\n",
       "      <td>Yes</td>\n",
       "      <td>4.0</td>\n",
       "      <td>5.0</td>\n",
       "      <td>Yes</td>\n",
       "      <td>1</td>\n",
       "    </tr>\n",
       "    <tr>\n",
       "      <th>4</th>\n",
       "      <td>32</td>\n",
       "      <td>Female</td>\n",
       "      <td>25.0</td>\n",
       "      <td>Jaipur</td>\n",
       "      <td>Student</td>\n",
       "      <td>4.0</td>\n",
       "      <td>0.0</td>\n",
       "      <td>8.13</td>\n",
       "      <td>3.0</td>\n",
       "      <td>0.0</td>\n",
       "      <td>5-6 hours</td>\n",
       "      <td>Moderate</td>\n",
       "      <td>M.Tech</td>\n",
       "      <td>Yes</td>\n",
       "      <td>1.0</td>\n",
       "      <td>1.0</td>\n",
       "      <td>No</td>\n",
       "      <td>0</td>\n",
       "    </tr>\n",
       "  </tbody>\n",
       "</table>\n",
       "</div>"
      ],
      "text/plain": [
       "   id  Gender   Age           City Profession  Academic Pressure  \\\n",
       "0   2    Male  33.0  Visakhapatnam    Student                5.0   \n",
       "1   8  Female  24.0      Bangalore    Student                2.0   \n",
       "2  26    Male  31.0       Srinagar    Student                3.0   \n",
       "3  30  Female  28.0       Varanasi    Student                3.0   \n",
       "4  32  Female  25.0         Jaipur    Student                4.0   \n",
       "\n",
       "   Work Pressure  CGPA  Study Satisfaction  Job Satisfaction  \\\n",
       "0            0.0  8.97                 2.0               0.0   \n",
       "1            0.0  5.90                 5.0               0.0   \n",
       "2            0.0  7.03                 5.0               0.0   \n",
       "3            0.0  5.59                 2.0               0.0   \n",
       "4            0.0  8.13                 3.0               0.0   \n",
       "\n",
       "      Sleep Duration Dietary Habits   Degree  \\\n",
       "0          5-6 hours        Healthy  B.Pharm   \n",
       "1          5-6 hours       Moderate      BSc   \n",
       "2  Less than 5 hours        Healthy       BA   \n",
       "3          7-8 hours       Moderate      BCA   \n",
       "4          5-6 hours       Moderate   M.Tech   \n",
       "\n",
       "  Have you ever had suicidal thoughts ?  Work/Study Hours  Financial Stress  \\\n",
       "0                                   Yes               3.0               1.0   \n",
       "1                                    No               3.0               2.0   \n",
       "2                                    No               9.0               1.0   \n",
       "3                                   Yes               4.0               5.0   \n",
       "4                                   Yes               1.0               1.0   \n",
       "\n",
       "  Family History of Mental Illness  Depression  \n",
       "0                               No           1  \n",
       "1                              Yes           0  \n",
       "2                              Yes           0  \n",
       "3                              Yes           1  \n",
       "4                               No           0  "
      ]
     },
     "execution_count": 92,
     "metadata": {},
     "output_type": "execute_result"
    }
   ],
   "source": [
    "df = pd.read_csv('../data/Student Depression Dataset.csv')\n",
    "df.head()"
   ]
  },
  {
   "cell_type": "markdown",
   "metadata": {},
   "source": [
    "## Cek Missing Value"
   ]
  },
  {
   "cell_type": "code",
   "execution_count": 93,
   "metadata": {},
   "outputs": [
    {
     "data": {
      "text/plain": [
       "id                                       0\n",
       "Gender                                   0\n",
       "Age                                      0\n",
       "City                                     0\n",
       "Profession                               0\n",
       "Academic Pressure                        0\n",
       "Work Pressure                            0\n",
       "CGPA                                     0\n",
       "Study Satisfaction                       0\n",
       "Job Satisfaction                         0\n",
       "Sleep Duration                           0\n",
       "Dietary Habits                           0\n",
       "Degree                                   0\n",
       "Have you ever had suicidal thoughts ?    0\n",
       "Work/Study Hours                         0\n",
       "Financial Stress                         3\n",
       "Family History of Mental Illness         0\n",
       "Depression                               0\n",
       "dtype: int64"
      ]
     },
     "execution_count": 93,
     "metadata": {},
     "output_type": "execute_result"
    }
   ],
   "source": [
    "# periksa apakah ada missing value\n",
    "df.isnull().sum()"
   ]
  },
  {
   "cell_type": "markdown",
   "metadata": {},
   "source": [
    "Kolom Financial Stress terdapat 3 data yang tidak memiliki nilai. Kita akan mengisi nilai tersebut dengan nilai rata-rata dari kolom tersebut."
   ]
  },
  {
   "cell_type": "code",
   "execution_count": 94,
   "metadata": {},
   "outputs": [
    {
     "data": {
      "text/plain": [
       "0"
      ]
     },
     "execution_count": 94,
     "metadata": {},
     "output_type": "execute_result"
    }
   ],
   "source": [
    "# ubah Kolom Financial Stress ke float64 dan isi value ? dengan None\n",
    "df['Financial Stress'] = pd.to_numeric(df['Financial Stress'], errors='coerce')\n",
    "\n",
    "# kemudian isi missing value dengan mean\n",
    "df['Financial Stress'] = df['Financial Stress'].fillna(df['Financial Stress'].mean())\n",
    "\n",
    "df['Financial Stress'].isnull().sum()"
   ]
  },
  {
   "cell_type": "markdown",
   "metadata": {},
   "source": [
    "## Cek Duplicate"
   ]
  },
  {
   "cell_type": "code",
   "execution_count": 95,
   "metadata": {},
   "outputs": [
    {
     "data": {
      "text/plain": [
       "0"
      ]
     },
     "execution_count": 95,
     "metadata": {},
     "output_type": "execute_result"
    }
   ],
   "source": [
    "# periksa apakah ada duplikat\n",
    "df.duplicated().sum()"
   ]
  },
  {
   "cell_type": "markdown",
   "metadata": {},
   "source": [
    "tidak ada duplicate"
   ]
  },
  {
   "cell_type": "markdown",
   "metadata": {},
   "source": [
    "## Cek Data Lebih Lanjut"
   ]
  },
  {
   "cell_type": "markdown",
   "metadata": {},
   "source": [
    "### Kolom Depression"
   ]
  },
  {
   "cell_type": "code",
   "execution_count": 96,
   "metadata": {},
   "outputs": [
    {
     "data": {
      "text/plain": [
       "Depression\n",
       "1    16336\n",
       "0    11565\n",
       "Name: count, dtype: int64"
      ]
     },
     "execution_count": 96,
     "metadata": {},
     "output_type": "execute_result"
    }
   ],
   "source": [
    "df['Depression'].value_counts()"
   ]
  },
  {
   "cell_type": "markdown",
   "metadata": {},
   "source": [
    "Kolom Depression masih berupa integer, ubah menjadi kategorikal."
   ]
  },
  {
   "cell_type": "code",
   "execution_count": 97,
   "metadata": {},
   "outputs": [
    {
     "data": {
      "text/plain": [
       "Depression\n",
       "Yes    16336\n",
       "No     11565\n",
       "Name: count, dtype: int64"
      ]
     },
     "execution_count": 97,
     "metadata": {},
     "output_type": "execute_result"
    }
   ],
   "source": [
    "# ubah kolom Depression menjadi Yes dan No\n",
    "df['Depression'] = df['Depression'].replace({1: 'Yes', 0: 'No'})\n",
    "df['Depression'].value_counts()"
   ]
  },
  {
   "cell_type": "markdown",
   "metadata": {},
   "source": [
    "### Kolom CGPA"
   ]
  },
  {
   "cell_type": "code",
   "execution_count": 98,
   "metadata": {},
   "outputs": [
    {
     "data": {
      "text/plain": [
       "count    27901.000000\n",
       "mean         7.656104\n",
       "std          1.470707\n",
       "min          0.000000\n",
       "25%          6.290000\n",
       "50%          7.770000\n",
       "75%          8.920000\n",
       "max         10.000000\n",
       "Name: CGPA, dtype: float64"
      ]
     },
     "execution_count": 98,
     "metadata": {},
     "output_type": "execute_result"
    }
   ],
   "source": [
    "# cek apakah kolom cpga antara 0-10\n",
    "df['CGPA'].describe()"
   ]
  },
  {
   "cell_type": "markdown",
   "metadata": {},
   "source": [
    "### Kolom City"
   ]
  },
  {
   "cell_type": "code",
   "execution_count": 99,
   "metadata": {},
   "outputs": [
    {
     "data": {
      "text/plain": [
       "City\n",
       "Kalyan                1570\n",
       "Srinagar              1372\n",
       "Hyderabad             1340\n",
       "Vasai-Virar           1290\n",
       "Lucknow               1155\n",
       "Thane                 1139\n",
       "Ludhiana              1111\n",
       "Agra                  1094\n",
       "Surat                 1078\n",
       "Kolkata               1066\n",
       "Jaipur                1036\n",
       "Patna                 1007\n",
       "Visakhapatnam          969\n",
       "Pune                   968\n",
       "Ahmedabad              951\n",
       "Bhopal                 934\n",
       "Chennai                885\n",
       "Meerut                 825\n",
       "Rajkot                 816\n",
       "Delhi                  768\n",
       "Bangalore              767\n",
       "Ghaziabad              745\n",
       "Mumbai                 699\n",
       "Vadodara               694\n",
       "Varanasi               685\n",
       "Nagpur                 651\n",
       "Indore                 643\n",
       "Kanpur                 609\n",
       "Nashik                 547\n",
       "Faridabad              461\n",
       "Saanvi                   2\n",
       "Bhavna                   2\n",
       "City                     2\n",
       "Harsha                   2\n",
       "Kibara                   1\n",
       "Nandini                  1\n",
       "Nalini                   1\n",
       "Mihir                    1\n",
       "Nalyan                   1\n",
       "M.Com                    1\n",
       "ME                       1\n",
       "Rashi                    1\n",
       "Gaurav                   1\n",
       "Reyansh                  1\n",
       "Harsh                    1\n",
       "Vaanya                   1\n",
       "Mira                     1\n",
       "Less than 5 Kalyan       1\n",
       "3.0                      1\n",
       "Less Delhi               1\n",
       "M.Tech                   1\n",
       "Khaziabad                1\n",
       "Name: count, dtype: int64"
      ]
     },
     "execution_count": 99,
     "metadata": {},
     "output_type": "execute_result"
    }
   ],
   "source": [
    "df['City'].value_counts()"
   ]
  },
  {
   "cell_type": "markdown",
   "metadata": {},
   "source": [
    "Entri Salah Ketik (Typo dari Kota Valid)\n",
    "- Nalyan → kemungkinan maksudnya **Kalyan**\n",
    "- Khaziabad → kemungkinan maksudnya **Ghaziabad**\n",
    "\n",
    "Bukan Nama Kota (Nama Orang / Gelar / Lainnya)\n",
    "- Saanvi\n",
    "- Bhavna\n",
    "- Harsha\n",
    "- Kibara\n",
    "- Nandini\n",
    "- Nalini\n",
    "- Mihir\n",
    "- M.Com\n",
    "- ME\n",
    "- Rashi\n",
    "- Gaurav\n",
    "- Reyansh\n",
    "- Harsh\n",
    "- Vaanya\n",
    "- Mira\n",
    "- Less than 5 Kalyan\n",
    "- 3.0\n",
    "- Less Delhi\n",
    "- M.Tech"
   ]
  },
  {
   "cell_type": "code",
   "execution_count": 100,
   "metadata": {},
   "outputs": [
    {
     "data": {
      "text/plain": [
       "City\n",
       "Kalyan           1571\n",
       "Srinagar         1372\n",
       "Hyderabad        1340\n",
       "Vasai-Virar      1290\n",
       "Lucknow          1155\n",
       "Thane            1139\n",
       "Ludhiana         1111\n",
       "Agra             1094\n",
       "Surat            1078\n",
       "Kolkata          1066\n",
       "Jaipur           1036\n",
       "Patna            1007\n",
       "Visakhapatnam     969\n",
       "Pune              968\n",
       "Ahmedabad         951\n",
       "Bhopal            934\n",
       "Chennai           885\n",
       "Meerut            825\n",
       "Rajkot            816\n",
       "Delhi             768\n",
       "Bangalore         767\n",
       "Ghaziabad         746\n",
       "Mumbai            699\n",
       "Vadodara          694\n",
       "Varanasi          685\n",
       "Nagpur            651\n",
       "Indore            643\n",
       "Kanpur            609\n",
       "Nashik            547\n",
       "Faridabad         461\n",
       "Others             24\n",
       "Name: count, dtype: int64"
      ]
     },
     "execution_count": 100,
     "metadata": {},
     "output_type": "execute_result"
    }
   ],
   "source": [
    "invalid_city = [\n",
    "    'Less than 5 Kalyan', \n",
    "    '3.0', \n",
    "    'Less Delhi', \n",
    "    'City', \n",
    "    'M.Tech', \n",
    "    'M.Com', \n",
    "    'ME',     \n",
    "    'Saanvi',\n",
    "    'Bhavna',\n",
    "    'Harsha',\n",
    "    'Kibara',\n",
    "    'Nandini',\n",
    "    'Nalini',\n",
    "    'Mihir',\n",
    "    'Rashi',\n",
    "    'Gaurav',\n",
    "    'Reyansh',\n",
    "    'Harsh',\n",
    "    'Vaanya',\n",
    "    'Mira'\n",
    "]\n",
    "\n",
    "# Ganti data tidak valid dengan 'Others'\n",
    "df['City'] = df['City'].apply(lambda x: 'Others' if x in invalid_city else x)\n",
    "\n",
    "# Ganti data yang salah ketik\n",
    "df['City'] = df['City'].replace({'Nalyan': 'Kalyan', 'Khaziabad': 'Ghaziabad'})\n",
    "\n",
    "df['City'].value_counts()"
   ]
  },
  {
   "cell_type": "markdown",
   "metadata": {},
   "source": [
    "### Kolom Degree"
   ]
  },
  {
   "cell_type": "code",
   "execution_count": 101,
   "metadata": {},
   "outputs": [
    {
     "data": {
      "text/plain": [
       "Degree\n",
       "Class 12    6080\n",
       "B.Ed        1867\n",
       "B.Com       1506\n",
       "B.Arch      1478\n",
       "BCA         1433\n",
       "MSc         1190\n",
       "B.Tech      1152\n",
       "MCA         1044\n",
       "M.Tech      1022\n",
       "BHM          925\n",
       "BSc          888\n",
       "M.Ed         821\n",
       "B.Pharm      810\n",
       "M.Com        734\n",
       "MBBS         696\n",
       "BBA          696\n",
       "LLB          671\n",
       "BE           613\n",
       "BA           600\n",
       "M.Pharm      582\n",
       "MD           572\n",
       "MBA          562\n",
       "MA           544\n",
       "PhD          522\n",
       "LLM          482\n",
       "MHM          191\n",
       "ME           185\n",
       "Others        35\n",
       "Name: count, dtype: int64"
      ]
     },
     "execution_count": 101,
     "metadata": {},
     "output_type": "execute_result"
    }
   ],
   "source": [
    "df['Degree'].value_counts()"
   ]
  },
  {
   "cell_type": "markdown",
   "metadata": {},
   "source": [
    "value 'Class 12' kurang merepresentasikan lulusan SMA, ubah menjadi 'High School'"
   ]
  },
  {
   "cell_type": "code",
   "execution_count": 102,
   "metadata": {},
   "outputs": [
    {
     "data": {
      "text/plain": [
       "Degree\n",
       "High School    6080\n",
       "B.Ed           1867\n",
       "B.Com          1506\n",
       "B.Arch         1478\n",
       "BCA            1433\n",
       "MSc            1190\n",
       "B.Tech         1152\n",
       "MCA            1044\n",
       "M.Tech         1022\n",
       "BHM             925\n",
       "BSc             888\n",
       "M.Ed            821\n",
       "B.Pharm         810\n",
       "M.Com           734\n",
       "MBBS            696\n",
       "BBA             696\n",
       "LLB             671\n",
       "BE              613\n",
       "BA              600\n",
       "M.Pharm         582\n",
       "MD              572\n",
       "MBA             562\n",
       "MA              544\n",
       "PhD             522\n",
       "LLM             482\n",
       "MHM             191\n",
       "ME              185\n",
       "Others           35\n",
       "Name: count, dtype: int64"
      ]
     },
     "execution_count": 102,
     "metadata": {},
     "output_type": "execute_result"
    }
   ],
   "source": [
    "# Ubah value 'Class 12' menjadi 'High School'\n",
    "df['Degree'] = df['Degree'].replace('Class 12', 'High School')\n",
    "df['Degree'].value_counts()"
   ]
  },
  {
   "cell_type": "markdown",
   "metadata": {},
   "source": [
    "### Menghapus Kolom yang Tidak Diperlukan"
   ]
  },
  {
   "cell_type": "code",
   "execution_count": 103,
   "metadata": {},
   "outputs": [
    {
     "data": {
      "text/plain": [
       "Profession\n",
       "Student                   27870\n",
       "Architect                     8\n",
       "Teacher                       6\n",
       "Digital Marketer              3\n",
       "Content Writer                2\n",
       "Chef                          2\n",
       "Doctor                        2\n",
       "Pharmacist                    2\n",
       "Civil Engineer                1\n",
       "UX/UI Designer                1\n",
       "Educational Consultant        1\n",
       "Manager                       1\n",
       "Lawyer                        1\n",
       "Entrepreneur                  1\n",
       "Name: count, dtype: int64"
      ]
     },
     "execution_count": 103,
     "metadata": {},
     "output_type": "execute_result"
    }
   ],
   "source": [
    "df['Profession'].value_counts()"
   ]
  },
  {
   "cell_type": "markdown",
   "metadata": {},
   "source": [
    "Dikarenakan ini data pelajar yang mengalami depresi, maka kolom 'Profession', 'Job Satisfaction', 'Work Pressure', tidak diperlukan Dan data bukan pelajar akan dihapus\n",
    "\n",
    "**langkah yang akan dilakukan**\n",
    "- menghapus data yang bukan seorang pelajar\n",
    "- menghapus kolom yang tidak diperlukan (Profession, Job Satisfaction, Work Pressure)\n",
    "- ubah nama kolom 'Work/Study Hours' menjadi 'Study Hours'"
   ]
  },
  {
   "cell_type": "code",
   "execution_count": 104,
   "metadata": {},
   "outputs": [
    {
     "data": {
      "application/vnd.microsoft.datawrangler.viewer.v0+json": {
       "columns": [
        {
         "name": "index",
         "rawType": "int64",
         "type": "integer"
        },
        {
         "name": "id",
         "rawType": "int64",
         "type": "integer"
        },
        {
         "name": "Gender",
         "rawType": "object",
         "type": "string"
        },
        {
         "name": "Age",
         "rawType": "float64",
         "type": "float"
        },
        {
         "name": "City",
         "rawType": "object",
         "type": "string"
        },
        {
         "name": "Academic Pressure",
         "rawType": "float64",
         "type": "float"
        },
        {
         "name": "CGPA",
         "rawType": "float64",
         "type": "float"
        },
        {
         "name": "Study Satisfaction",
         "rawType": "float64",
         "type": "float"
        },
        {
         "name": "Sleep Duration",
         "rawType": "object",
         "type": "string"
        },
        {
         "name": "Dietary Habits",
         "rawType": "object",
         "type": "string"
        },
        {
         "name": "Degree",
         "rawType": "object",
         "type": "string"
        },
        {
         "name": "Have you ever had suicidal thoughts ?",
         "rawType": "object",
         "type": "string"
        },
        {
         "name": "Study Hours",
         "rawType": "float64",
         "type": "float"
        },
        {
         "name": "Financial Stress",
         "rawType": "float64",
         "type": "float"
        },
        {
         "name": "Family History of Mental Illness",
         "rawType": "object",
         "type": "string"
        },
        {
         "name": "Depression",
         "rawType": "object",
         "type": "string"
        }
       ],
       "conversionMethod": "pd.DataFrame",
       "ref": "e210453e-ef48-4f4b-84d2-25bdbf84e08c",
       "rows": [
        [
         "0",
         "2",
         "Male",
         "33.0",
         "Visakhapatnam",
         "5.0",
         "8.97",
         "2.0",
         "5-6 hours",
         "Healthy",
         "B.Pharm",
         "Yes",
         "3.0",
         "1.0",
         "No",
         "Yes"
        ],
        [
         "1",
         "8",
         "Female",
         "24.0",
         "Bangalore",
         "2.0",
         "5.9",
         "5.0",
         "5-6 hours",
         "Moderate",
         "BSc",
         "No",
         "3.0",
         "2.0",
         "Yes",
         "No"
        ],
        [
         "2",
         "26",
         "Male",
         "31.0",
         "Srinagar",
         "3.0",
         "7.03",
         "5.0",
         "Less than 5 hours",
         "Healthy",
         "BA",
         "No",
         "9.0",
         "1.0",
         "Yes",
         "No"
        ],
        [
         "3",
         "30",
         "Female",
         "28.0",
         "Varanasi",
         "3.0",
         "5.59",
         "2.0",
         "7-8 hours",
         "Moderate",
         "BCA",
         "Yes",
         "4.0",
         "5.0",
         "Yes",
         "Yes"
        ],
        [
         "4",
         "32",
         "Female",
         "25.0",
         "Jaipur",
         "4.0",
         "8.13",
         "3.0",
         "5-6 hours",
         "Moderate",
         "M.Tech",
         "Yes",
         "1.0",
         "1.0",
         "No",
         "No"
        ]
       ],
       "shape": {
        "columns": 15,
        "rows": 5
       }
      },
      "text/html": [
       "<div>\n",
       "<style scoped>\n",
       "    .dataframe tbody tr th:only-of-type {\n",
       "        vertical-align: middle;\n",
       "    }\n",
       "\n",
       "    .dataframe tbody tr th {\n",
       "        vertical-align: top;\n",
       "    }\n",
       "\n",
       "    .dataframe thead th {\n",
       "        text-align: right;\n",
       "    }\n",
       "</style>\n",
       "<table border=\"1\" class=\"dataframe\">\n",
       "  <thead>\n",
       "    <tr style=\"text-align: right;\">\n",
       "      <th></th>\n",
       "      <th>id</th>\n",
       "      <th>Gender</th>\n",
       "      <th>Age</th>\n",
       "      <th>City</th>\n",
       "      <th>Academic Pressure</th>\n",
       "      <th>CGPA</th>\n",
       "      <th>Study Satisfaction</th>\n",
       "      <th>Sleep Duration</th>\n",
       "      <th>Dietary Habits</th>\n",
       "      <th>Degree</th>\n",
       "      <th>Have you ever had suicidal thoughts ?</th>\n",
       "      <th>Study Hours</th>\n",
       "      <th>Financial Stress</th>\n",
       "      <th>Family History of Mental Illness</th>\n",
       "      <th>Depression</th>\n",
       "    </tr>\n",
       "  </thead>\n",
       "  <tbody>\n",
       "    <tr>\n",
       "      <th>0</th>\n",
       "      <td>2</td>\n",
       "      <td>Male</td>\n",
       "      <td>33.0</td>\n",
       "      <td>Visakhapatnam</td>\n",
       "      <td>5.0</td>\n",
       "      <td>8.97</td>\n",
       "      <td>2.0</td>\n",
       "      <td>5-6 hours</td>\n",
       "      <td>Healthy</td>\n",
       "      <td>B.Pharm</td>\n",
       "      <td>Yes</td>\n",
       "      <td>3.0</td>\n",
       "      <td>1.0</td>\n",
       "      <td>No</td>\n",
       "      <td>Yes</td>\n",
       "    </tr>\n",
       "    <tr>\n",
       "      <th>1</th>\n",
       "      <td>8</td>\n",
       "      <td>Female</td>\n",
       "      <td>24.0</td>\n",
       "      <td>Bangalore</td>\n",
       "      <td>2.0</td>\n",
       "      <td>5.90</td>\n",
       "      <td>5.0</td>\n",
       "      <td>5-6 hours</td>\n",
       "      <td>Moderate</td>\n",
       "      <td>BSc</td>\n",
       "      <td>No</td>\n",
       "      <td>3.0</td>\n",
       "      <td>2.0</td>\n",
       "      <td>Yes</td>\n",
       "      <td>No</td>\n",
       "    </tr>\n",
       "    <tr>\n",
       "      <th>2</th>\n",
       "      <td>26</td>\n",
       "      <td>Male</td>\n",
       "      <td>31.0</td>\n",
       "      <td>Srinagar</td>\n",
       "      <td>3.0</td>\n",
       "      <td>7.03</td>\n",
       "      <td>5.0</td>\n",
       "      <td>Less than 5 hours</td>\n",
       "      <td>Healthy</td>\n",
       "      <td>BA</td>\n",
       "      <td>No</td>\n",
       "      <td>9.0</td>\n",
       "      <td>1.0</td>\n",
       "      <td>Yes</td>\n",
       "      <td>No</td>\n",
       "    </tr>\n",
       "    <tr>\n",
       "      <th>3</th>\n",
       "      <td>30</td>\n",
       "      <td>Female</td>\n",
       "      <td>28.0</td>\n",
       "      <td>Varanasi</td>\n",
       "      <td>3.0</td>\n",
       "      <td>5.59</td>\n",
       "      <td>2.0</td>\n",
       "      <td>7-8 hours</td>\n",
       "      <td>Moderate</td>\n",
       "      <td>BCA</td>\n",
       "      <td>Yes</td>\n",
       "      <td>4.0</td>\n",
       "      <td>5.0</td>\n",
       "      <td>Yes</td>\n",
       "      <td>Yes</td>\n",
       "    </tr>\n",
       "    <tr>\n",
       "      <th>4</th>\n",
       "      <td>32</td>\n",
       "      <td>Female</td>\n",
       "      <td>25.0</td>\n",
       "      <td>Jaipur</td>\n",
       "      <td>4.0</td>\n",
       "      <td>8.13</td>\n",
       "      <td>3.0</td>\n",
       "      <td>5-6 hours</td>\n",
       "      <td>Moderate</td>\n",
       "      <td>M.Tech</td>\n",
       "      <td>Yes</td>\n",
       "      <td>1.0</td>\n",
       "      <td>1.0</td>\n",
       "      <td>No</td>\n",
       "      <td>No</td>\n",
       "    </tr>\n",
       "  </tbody>\n",
       "</table>\n",
       "</div>"
      ],
      "text/plain": [
       "   id  Gender   Age           City  Academic Pressure  CGPA  \\\n",
       "0   2    Male  33.0  Visakhapatnam                5.0  8.97   \n",
       "1   8  Female  24.0      Bangalore                2.0  5.90   \n",
       "2  26    Male  31.0       Srinagar                3.0  7.03   \n",
       "3  30  Female  28.0       Varanasi                3.0  5.59   \n",
       "4  32  Female  25.0         Jaipur                4.0  8.13   \n",
       "\n",
       "   Study Satisfaction     Sleep Duration Dietary Habits   Degree  \\\n",
       "0                 2.0          5-6 hours        Healthy  B.Pharm   \n",
       "1                 5.0          5-6 hours       Moderate      BSc   \n",
       "2                 5.0  Less than 5 hours        Healthy       BA   \n",
       "3                 2.0          7-8 hours       Moderate      BCA   \n",
       "4                 3.0          5-6 hours       Moderate   M.Tech   \n",
       "\n",
       "  Have you ever had suicidal thoughts ?  Study Hours  Financial Stress  \\\n",
       "0                                   Yes          3.0               1.0   \n",
       "1                                    No          3.0               2.0   \n",
       "2                                    No          9.0               1.0   \n",
       "3                                   Yes          4.0               5.0   \n",
       "4                                   Yes          1.0               1.0   \n",
       "\n",
       "  Family History of Mental Illness Depression  \n",
       "0                               No        Yes  \n",
       "1                              Yes         No  \n",
       "2                              Yes         No  \n",
       "3                              Yes        Yes  \n",
       "4                               No         No  "
      ]
     },
     "execution_count": 104,
     "metadata": {},
     "output_type": "execute_result"
    }
   ],
   "source": [
    "# Hapus data yang bukan seorang pelajar\n",
    "df = df[df['Profession'] == 'Student']\n",
    "\n",
    "# Hapus kolom yang tidak diperlukan\n",
    "df = df.drop(columns=['Profession', 'Job Satisfaction', 'Work Pressure'])\n",
    "\n",
    "# ubah nama kolom\n",
    "df = df.rename(columns={'Work/Study Hours': 'Study Hours'})\n",
    "\n",
    "df.head()"
   ]
  },
  {
   "cell_type": "markdown",
   "metadata": {},
   "source": [
    "### Kolom yang Kurang Representatif\n",
    "Berikut kolom yang kurang representatif:\n",
    "- Financial Stress\n",
    "- Study Satisfaction\n",
    "- Academic Pressure"
   ]
  },
  {
   "cell_type": "code",
   "execution_count": 105,
   "metadata": {},
   "outputs": [
    {
     "data": {
      "application/vnd.microsoft.datawrangler.viewer.v0+json": {
       "columns": [
        {
         "name": "index",
         "rawType": "object",
         "type": "string"
        },
        {
         "name": "Financial Stress",
         "rawType": "float64",
         "type": "float"
        },
        {
         "name": "Study Satisfaction",
         "rawType": "float64",
         "type": "float"
        },
        {
         "name": "Academic Pressure",
         "rawType": "float64",
         "type": "float"
        }
       ],
       "conversionMethod": "pd.DataFrame",
       "ref": "3c372956-5e24-4069-baab-b0636d24ba9f",
       "rows": [
        [
         "count",
         "27870.0",
         "27870.0",
         "27870.0"
        ],
        [
         "mean",
         "3.13951989953252",
         "2.9435593828489415",
         "3.140617151058486"
        ],
        [
         "std",
         "1.4372113036254244",
         "1.3612093838683632",
         "1.3816396959731674"
        ],
        [
         "min",
         "1.0",
         "0.0",
         "0.0"
        ],
        [
         "25%",
         "2.0",
         "2.0",
         "2.0"
        ],
        [
         "50%",
         "3.0",
         "3.0",
         "3.0"
        ],
        [
         "75%",
         "4.0",
         "4.0",
         "4.0"
        ],
        [
         "max",
         "5.0",
         "5.0",
         "5.0"
        ]
       ],
       "shape": {
        "columns": 3,
        "rows": 8
       }
      },
      "text/html": [
       "<div>\n",
       "<style scoped>\n",
       "    .dataframe tbody tr th:only-of-type {\n",
       "        vertical-align: middle;\n",
       "    }\n",
       "\n",
       "    .dataframe tbody tr th {\n",
       "        vertical-align: top;\n",
       "    }\n",
       "\n",
       "    .dataframe thead th {\n",
       "        text-align: right;\n",
       "    }\n",
       "</style>\n",
       "<table border=\"1\" class=\"dataframe\">\n",
       "  <thead>\n",
       "    <tr style=\"text-align: right;\">\n",
       "      <th></th>\n",
       "      <th>Financial Stress</th>\n",
       "      <th>Study Satisfaction</th>\n",
       "      <th>Academic Pressure</th>\n",
       "    </tr>\n",
       "  </thead>\n",
       "  <tbody>\n",
       "    <tr>\n",
       "      <th>count</th>\n",
       "      <td>27870.000000</td>\n",
       "      <td>27870.000000</td>\n",
       "      <td>27870.000000</td>\n",
       "    </tr>\n",
       "    <tr>\n",
       "      <th>mean</th>\n",
       "      <td>3.139520</td>\n",
       "      <td>2.943559</td>\n",
       "      <td>3.140617</td>\n",
       "    </tr>\n",
       "    <tr>\n",
       "      <th>std</th>\n",
       "      <td>1.437211</td>\n",
       "      <td>1.361209</td>\n",
       "      <td>1.381640</td>\n",
       "    </tr>\n",
       "    <tr>\n",
       "      <th>min</th>\n",
       "      <td>1.000000</td>\n",
       "      <td>0.000000</td>\n",
       "      <td>0.000000</td>\n",
       "    </tr>\n",
       "    <tr>\n",
       "      <th>25%</th>\n",
       "      <td>2.000000</td>\n",
       "      <td>2.000000</td>\n",
       "      <td>2.000000</td>\n",
       "    </tr>\n",
       "    <tr>\n",
       "      <th>50%</th>\n",
       "      <td>3.000000</td>\n",
       "      <td>3.000000</td>\n",
       "      <td>3.000000</td>\n",
       "    </tr>\n",
       "    <tr>\n",
       "      <th>75%</th>\n",
       "      <td>4.000000</td>\n",
       "      <td>4.000000</td>\n",
       "      <td>4.000000</td>\n",
       "    </tr>\n",
       "    <tr>\n",
       "      <th>max</th>\n",
       "      <td>5.000000</td>\n",
       "      <td>5.000000</td>\n",
       "      <td>5.000000</td>\n",
       "    </tr>\n",
       "  </tbody>\n",
       "</table>\n",
       "</div>"
      ],
      "text/plain": [
       "       Financial Stress  Study Satisfaction  Academic Pressure\n",
       "count      27870.000000        27870.000000       27870.000000\n",
       "mean           3.139520            2.943559           3.140617\n",
       "std            1.437211            1.361209           1.381640\n",
       "min            1.000000            0.000000           0.000000\n",
       "25%            2.000000            2.000000           2.000000\n",
       "50%            3.000000            3.000000           3.000000\n",
       "75%            4.000000            4.000000           4.000000\n",
       "max            5.000000            5.000000           5.000000"
      ]
     },
     "execution_count": 105,
     "metadata": {},
     "output_type": "execute_result"
    }
   ],
   "source": [
    "unrepresentative_column = ['Financial Stress', 'Study Satisfaction', 'Academic Pressure']\n",
    "df[unrepresentative_column].describe()"
   ]
  },
  {
   "cell_type": "markdown",
   "metadata": {},
   "source": [
    "Ubah menjadi data kategorikal\n"
   ]
  },
  {
   "cell_type": "code",
   "execution_count": 106,
   "metadata": {},
   "outputs": [
    {
     "data": {
      "application/vnd.microsoft.datawrangler.viewer.v0+json": {
       "columns": [
        {
         "name": "index",
         "rawType": "int64",
         "type": "integer"
        },
        {
         "name": "Financial Stress",
         "rawType": "category",
         "type": "unknown"
        },
        {
         "name": "Study Satisfaction",
         "rawType": "category",
         "type": "unknown"
        },
        {
         "name": "Academic Pressure",
         "rawType": "category",
         "type": "unknown"
        }
       ],
       "conversionMethod": "pd.DataFrame",
       "ref": "3b30feb5-7ccc-4af6-846c-a22253eac5a2",
       "rows": [
        [
         "0",
         "Low",
         "Low",
         "Very High"
        ],
        [
         "1",
         "Low",
         "Very High",
         "Low"
        ],
        [
         "2",
         "Low",
         "Very High",
         "Moderate"
        ],
        [
         "3",
         "Very High",
         "Low",
         "Moderate"
        ],
        [
         "4",
         "Low",
         "Moderate",
         "High"
        ]
       ],
       "shape": {
        "columns": 3,
        "rows": 5
       }
      },
      "text/html": [
       "<div>\n",
       "<style scoped>\n",
       "    .dataframe tbody tr th:only-of-type {\n",
       "        vertical-align: middle;\n",
       "    }\n",
       "\n",
       "    .dataframe tbody tr th {\n",
       "        vertical-align: top;\n",
       "    }\n",
       "\n",
       "    .dataframe thead th {\n",
       "        text-align: right;\n",
       "    }\n",
       "</style>\n",
       "<table border=\"1\" class=\"dataframe\">\n",
       "  <thead>\n",
       "    <tr style=\"text-align: right;\">\n",
       "      <th></th>\n",
       "      <th>Financial Stress</th>\n",
       "      <th>Study Satisfaction</th>\n",
       "      <th>Academic Pressure</th>\n",
       "    </tr>\n",
       "  </thead>\n",
       "  <tbody>\n",
       "    <tr>\n",
       "      <th>0</th>\n",
       "      <td>Low</td>\n",
       "      <td>Low</td>\n",
       "      <td>Very High</td>\n",
       "    </tr>\n",
       "    <tr>\n",
       "      <th>1</th>\n",
       "      <td>Low</td>\n",
       "      <td>Very High</td>\n",
       "      <td>Low</td>\n",
       "    </tr>\n",
       "    <tr>\n",
       "      <th>2</th>\n",
       "      <td>Low</td>\n",
       "      <td>Very High</td>\n",
       "      <td>Moderate</td>\n",
       "    </tr>\n",
       "    <tr>\n",
       "      <th>3</th>\n",
       "      <td>Very High</td>\n",
       "      <td>Low</td>\n",
       "      <td>Moderate</td>\n",
       "    </tr>\n",
       "    <tr>\n",
       "      <th>4</th>\n",
       "      <td>Low</td>\n",
       "      <td>Moderate</td>\n",
       "      <td>High</td>\n",
       "    </tr>\n",
       "  </tbody>\n",
       "</table>\n",
       "</div>"
      ],
      "text/plain": [
       "  Financial Stress Study Satisfaction Academic Pressure\n",
       "0              Low                Low         Very High\n",
       "1              Low          Very High               Low\n",
       "2              Low          Very High          Moderate\n",
       "3        Very High                Low          Moderate\n",
       "4              Low           Moderate              High"
      ]
     },
     "execution_count": 106,
     "metadata": {},
     "output_type": "execute_result"
    }
   ],
   "source": [
    "# fungsi untuk kategorisasi\n",
    "def categorize(value, bins, labels):\n",
    "    return pd.cut(value, bins=bins, labels=labels, include_lowest=True)\n",
    "\n",
    "# Variabel bins dan labels untuk kategorisasi\n",
    "bins = [0, 2, 3, 4, 5]\n",
    "labels = ['Low', 'Moderate', 'High', 'Very High']\n",
    "\n",
    "# kategorisasi kolom yang tidak representatif\n",
    "for column in unrepresentative_column:\n",
    "    df[column] = categorize(df[column], bins, labels)\n",
    "\n",
    "# periksa hasil kategorisasi\n",
    "df[unrepresentative_column].head()"
   ]
  },
  {
   "cell_type": "markdown",
   "metadata": {},
   "source": [
    "#### Ubah kolom tipe data menjadi sesuai\n",
    "\n",
    "kolom yang perlu diubah menjadi tipe data kategorikal:\n",
    "- Gender\n",
    "- Sleep Duration\n",
    "- Dietary Habits\n",
    "- Have you ever had suicidal thoughts ?\n",
    "- Family History of Mental Illness\n",
    "- Depression\n",
    "\n",
    "kolom yang perlu diubah menjadi tipe data integer:\n",
    "- Age\n",
    "- Study Hours"
   ]
  },
  {
   "cell_type": "code",
   "execution_count": 107,
   "metadata": {},
   "outputs": [
    {
     "data": {
      "text/plain": [
       "id                                          int64\n",
       "Gender                                   category\n",
       "Age                                         int64\n",
       "City                                       object\n",
       "Academic Pressure                        category\n",
       "CGPA                                      float64\n",
       "Study Satisfaction                       category\n",
       "Sleep Duration                           category\n",
       "Dietary Habits                           category\n",
       "Degree                                     object\n",
       "Have you ever had suicidal thoughts ?    category\n",
       "Study Hours                                 int64\n",
       "Financial Stress                         category\n",
       "Family History of Mental Illness         category\n",
       "Depression                               category\n",
       "dtype: object"
      ]
     },
     "execution_count": 107,
     "metadata": {},
     "output_type": "execute_result"
    }
   ],
   "source": [
    "categorical_columns = [\n",
    "    'Gender', \n",
    "    'Sleep Duration', \n",
    "    'Dietary Habits', \n",
    "    'Have you ever had suicidal thoughts ?', \n",
    "    'Family History of Mental Illness', \n",
    "    'Depression'\n",
    "]\n",
    "\n",
    "integer_columns = [\n",
    "    'Age', \n",
    "    'Study Hours'\n",
    "]\n",
    "\n",
    "for column in categorical_columns:\n",
    "    df[column] = df[column].astype('category')\n",
    "    \n",
    "for column in integer_columns:\n",
    "    df[column] = df[column].astype('int64')\n",
    "    \n",
    "df.dtypes"
   ]
  },
  {
   "cell_type": "markdown",
   "metadata": {},
   "source": [
    "#### Kesimpulan dari data yang sudah diolah"
   ]
  },
  {
   "cell_type": "code",
   "execution_count": 108,
   "metadata": {},
   "outputs": [
    {
     "data": {
      "application/vnd.microsoft.datawrangler.viewer.v0+json": {
       "columns": [
        {
         "name": "index",
         "rawType": "int64",
         "type": "integer"
        },
        {
         "name": "id",
         "rawType": "int64",
         "type": "integer"
        },
        {
         "name": "Gender",
         "rawType": "category",
         "type": "unknown"
        },
        {
         "name": "Age",
         "rawType": "int64",
         "type": "integer"
        },
        {
         "name": "City",
         "rawType": "object",
         "type": "string"
        },
        {
         "name": "Academic Pressure",
         "rawType": "category",
         "type": "unknown"
        },
        {
         "name": "CGPA",
         "rawType": "float64",
         "type": "float"
        },
        {
         "name": "Study Satisfaction",
         "rawType": "category",
         "type": "unknown"
        },
        {
         "name": "Sleep Duration",
         "rawType": "category",
         "type": "unknown"
        },
        {
         "name": "Dietary Habits",
         "rawType": "category",
         "type": "unknown"
        },
        {
         "name": "Degree",
         "rawType": "object",
         "type": "string"
        },
        {
         "name": "Have you ever had suicidal thoughts ?",
         "rawType": "category",
         "type": "unknown"
        },
        {
         "name": "Study Hours",
         "rawType": "int64",
         "type": "integer"
        },
        {
         "name": "Financial Stress",
         "rawType": "category",
         "type": "unknown"
        },
        {
         "name": "Family History of Mental Illness",
         "rawType": "category",
         "type": "unknown"
        },
        {
         "name": "Depression",
         "rawType": "category",
         "type": "unknown"
        }
       ],
       "conversionMethod": "pd.DataFrame",
       "ref": "026fb0e2-eb8b-4563-a9d7-17431f400a58",
       "rows": [
        [
         "0",
         "2",
         "Male",
         "33",
         "Visakhapatnam",
         "Very High",
         "8.97",
         "Low",
         "5-6 hours",
         "Healthy",
         "B.Pharm",
         "Yes",
         "3",
         "Low",
         "No",
         "Yes"
        ],
        [
         "1",
         "8",
         "Female",
         "24",
         "Bangalore",
         "Low",
         "5.9",
         "Very High",
         "5-6 hours",
         "Moderate",
         "BSc",
         "No",
         "3",
         "Low",
         "Yes",
         "No"
        ],
        [
         "2",
         "26",
         "Male",
         "31",
         "Srinagar",
         "Moderate",
         "7.03",
         "Very High",
         "Less than 5 hours",
         "Healthy",
         "BA",
         "No",
         "9",
         "Low",
         "Yes",
         "No"
        ],
        [
         "3",
         "30",
         "Female",
         "28",
         "Varanasi",
         "Moderate",
         "5.59",
         "Low",
         "7-8 hours",
         "Moderate",
         "BCA",
         "Yes",
         "4",
         "Very High",
         "Yes",
         "Yes"
        ],
        [
         "4",
         "32",
         "Female",
         "25",
         "Jaipur",
         "High",
         "8.13",
         "Moderate",
         "5-6 hours",
         "Moderate",
         "M.Tech",
         "Yes",
         "1",
         "Low",
         "No",
         "No"
        ]
       ],
       "shape": {
        "columns": 15,
        "rows": 5
       }
      },
      "text/html": [
       "<div>\n",
       "<style scoped>\n",
       "    .dataframe tbody tr th:only-of-type {\n",
       "        vertical-align: middle;\n",
       "    }\n",
       "\n",
       "    .dataframe tbody tr th {\n",
       "        vertical-align: top;\n",
       "    }\n",
       "\n",
       "    .dataframe thead th {\n",
       "        text-align: right;\n",
       "    }\n",
       "</style>\n",
       "<table border=\"1\" class=\"dataframe\">\n",
       "  <thead>\n",
       "    <tr style=\"text-align: right;\">\n",
       "      <th></th>\n",
       "      <th>id</th>\n",
       "      <th>Gender</th>\n",
       "      <th>Age</th>\n",
       "      <th>City</th>\n",
       "      <th>Academic Pressure</th>\n",
       "      <th>CGPA</th>\n",
       "      <th>Study Satisfaction</th>\n",
       "      <th>Sleep Duration</th>\n",
       "      <th>Dietary Habits</th>\n",
       "      <th>Degree</th>\n",
       "      <th>Have you ever had suicidal thoughts ?</th>\n",
       "      <th>Study Hours</th>\n",
       "      <th>Financial Stress</th>\n",
       "      <th>Family History of Mental Illness</th>\n",
       "      <th>Depression</th>\n",
       "    </tr>\n",
       "  </thead>\n",
       "  <tbody>\n",
       "    <tr>\n",
       "      <th>0</th>\n",
       "      <td>2</td>\n",
       "      <td>Male</td>\n",
       "      <td>33</td>\n",
       "      <td>Visakhapatnam</td>\n",
       "      <td>Very High</td>\n",
       "      <td>8.97</td>\n",
       "      <td>Low</td>\n",
       "      <td>5-6 hours</td>\n",
       "      <td>Healthy</td>\n",
       "      <td>B.Pharm</td>\n",
       "      <td>Yes</td>\n",
       "      <td>3</td>\n",
       "      <td>Low</td>\n",
       "      <td>No</td>\n",
       "      <td>Yes</td>\n",
       "    </tr>\n",
       "    <tr>\n",
       "      <th>1</th>\n",
       "      <td>8</td>\n",
       "      <td>Female</td>\n",
       "      <td>24</td>\n",
       "      <td>Bangalore</td>\n",
       "      <td>Low</td>\n",
       "      <td>5.90</td>\n",
       "      <td>Very High</td>\n",
       "      <td>5-6 hours</td>\n",
       "      <td>Moderate</td>\n",
       "      <td>BSc</td>\n",
       "      <td>No</td>\n",
       "      <td>3</td>\n",
       "      <td>Low</td>\n",
       "      <td>Yes</td>\n",
       "      <td>No</td>\n",
       "    </tr>\n",
       "    <tr>\n",
       "      <th>2</th>\n",
       "      <td>26</td>\n",
       "      <td>Male</td>\n",
       "      <td>31</td>\n",
       "      <td>Srinagar</td>\n",
       "      <td>Moderate</td>\n",
       "      <td>7.03</td>\n",
       "      <td>Very High</td>\n",
       "      <td>Less than 5 hours</td>\n",
       "      <td>Healthy</td>\n",
       "      <td>BA</td>\n",
       "      <td>No</td>\n",
       "      <td>9</td>\n",
       "      <td>Low</td>\n",
       "      <td>Yes</td>\n",
       "      <td>No</td>\n",
       "    </tr>\n",
       "    <tr>\n",
       "      <th>3</th>\n",
       "      <td>30</td>\n",
       "      <td>Female</td>\n",
       "      <td>28</td>\n",
       "      <td>Varanasi</td>\n",
       "      <td>Moderate</td>\n",
       "      <td>5.59</td>\n",
       "      <td>Low</td>\n",
       "      <td>7-8 hours</td>\n",
       "      <td>Moderate</td>\n",
       "      <td>BCA</td>\n",
       "      <td>Yes</td>\n",
       "      <td>4</td>\n",
       "      <td>Very High</td>\n",
       "      <td>Yes</td>\n",
       "      <td>Yes</td>\n",
       "    </tr>\n",
       "    <tr>\n",
       "      <th>4</th>\n",
       "      <td>32</td>\n",
       "      <td>Female</td>\n",
       "      <td>25</td>\n",
       "      <td>Jaipur</td>\n",
       "      <td>High</td>\n",
       "      <td>8.13</td>\n",
       "      <td>Moderate</td>\n",
       "      <td>5-6 hours</td>\n",
       "      <td>Moderate</td>\n",
       "      <td>M.Tech</td>\n",
       "      <td>Yes</td>\n",
       "      <td>1</td>\n",
       "      <td>Low</td>\n",
       "      <td>No</td>\n",
       "      <td>No</td>\n",
       "    </tr>\n",
       "  </tbody>\n",
       "</table>\n",
       "</div>"
      ],
      "text/plain": [
       "   id  Gender  Age           City Academic Pressure  CGPA Study Satisfaction  \\\n",
       "0   2    Male   33  Visakhapatnam         Very High  8.97                Low   \n",
       "1   8  Female   24      Bangalore               Low  5.90          Very High   \n",
       "2  26    Male   31       Srinagar          Moderate  7.03          Very High   \n",
       "3  30  Female   28       Varanasi          Moderate  5.59                Low   \n",
       "4  32  Female   25         Jaipur              High  8.13           Moderate   \n",
       "\n",
       "      Sleep Duration Dietary Habits   Degree  \\\n",
       "0          5-6 hours        Healthy  B.Pharm   \n",
       "1          5-6 hours       Moderate      BSc   \n",
       "2  Less than 5 hours        Healthy       BA   \n",
       "3          7-8 hours       Moderate      BCA   \n",
       "4          5-6 hours       Moderate   M.Tech   \n",
       "\n",
       "  Have you ever had suicidal thoughts ?  Study Hours Financial Stress  \\\n",
       "0                                   Yes            3              Low   \n",
       "1                                    No            3              Low   \n",
       "2                                    No            9              Low   \n",
       "3                                   Yes            4        Very High   \n",
       "4                                   Yes            1              Low   \n",
       "\n",
       "  Family History of Mental Illness Depression  \n",
       "0                               No        Yes  \n",
       "1                              Yes         No  \n",
       "2                              Yes         No  \n",
       "3                              Yes        Yes  \n",
       "4                               No         No  "
      ]
     },
     "execution_count": 108,
     "metadata": {},
     "output_type": "execute_result"
    }
   ],
   "source": [
    "df.head()"
   ]
  },
  {
   "cell_type": "code",
   "execution_count": 109,
   "metadata": {},
   "outputs": [
    {
     "name": "stdout",
     "output_type": "stream",
     "text": [
      "<class 'pandas.core.frame.DataFrame'>\n",
      "Index: 27870 entries, 0 to 27900\n",
      "Data columns (total 15 columns):\n",
      " #   Column                                 Non-Null Count  Dtype   \n",
      "---  ------                                 --------------  -----   \n",
      " 0   id                                     27870 non-null  int64   \n",
      " 1   Gender                                 27870 non-null  category\n",
      " 2   Age                                    27870 non-null  int64   \n",
      " 3   City                                   27870 non-null  object  \n",
      " 4   Academic Pressure                      27870 non-null  category\n",
      " 5   CGPA                                   27870 non-null  float64 \n",
      " 6   Study Satisfaction                     27870 non-null  category\n",
      " 7   Sleep Duration                         27870 non-null  category\n",
      " 8   Dietary Habits                         27870 non-null  category\n",
      " 9   Degree                                 27870 non-null  object  \n",
      " 10  Have you ever had suicidal thoughts ?  27870 non-null  category\n",
      " 11  Study Hours                            27870 non-null  int64   \n",
      " 12  Financial Stress                       27870 non-null  category\n",
      " 13  Family History of Mental Illness       27870 non-null  category\n",
      " 14  Depression                             27870 non-null  category\n",
      "dtypes: category(9), float64(1), int64(3), object(2)\n",
      "memory usage: 1.7+ MB\n"
     ]
    }
   ],
   "source": [
    "df.info()"
   ]
  },
  {
   "cell_type": "markdown",
   "metadata": {},
   "source": [
    "Pada proses cleansing data, beberapa langkah telah dilakukan untuk memastikan data yang digunakan bersih dan siap untuk analisis lebih lanjut. Berikut adalah langkah-langkah yang telah dilakukan:\n",
    "\n",
    "1. **Mengisi Missing Values**:\n",
    "    - Kolom `Financial Stress` yang memiliki nilai missing diisi dengan nilai rata-rata dari kolom tersebut.\n",
    "\n",
    "2. **Menghapus Data Duplikat**:\n",
    "    - Tidak ditemukan data duplikat dalam dataset.\n",
    "\n",
    "3. **Mengubah Tipe Data**:\n",
    "    - Kolom `Depression` diubah dari integer menjadi kategorikal dengan nilai 'Yes' dan 'No'.\n",
    "    - Kolom `Gender`, `Sleep Duration`, `Dietary Habits`, `Have you ever had suicidal thoughts ?`, `Family History of Mental Illness`, dan `Depression` diubah menjadi tipe data kategorikal.\n",
    "    - Kolom `Age` dan `Study Hours` diubah menjadi tipe data integer.\n",
    "\n",
    "4. **Membersihkan Data Tidak Valid**:\n",
    "    - Kolom `City` yang memiliki nilai tidak valid seperti 'Less than 5 Kalyan', '3.0', 'Less Delhi', 'City', 'M.Tech', 'M.Com', dan 'ME' diubah menjadi 'Others'.\n",
    "    - Kolom `Degree` yang memiliki nilai 'Class 12' diubah menjadi 'High School'.\n",
    "\n",
    "5. **Menghapus Kolom yang Tidak Diperlukan**:\n",
    "    - Kolom `Profession`, `Job Satisfaction`, dan `Work Pressure` dihapus karena tidak relevan dengan analisis depresi pada pelajar.\n",
    "    - Data yang bukan seorang pelajar dihapus.\n",
    "    - Nama kolom `Work/Study Hours` diubah menjadi `Study Hours`.\n",
    "\n",
    "6. **Mengubah Kolom yang Kurang Representatif**:\n",
    "    - Kolom `Financial Stress`, `Study Satisfaction`, dan `Academic Pressure` diubah menjadi data kategorikal dengan kategori 'Low', 'Moderate', 'High', dan 'Very High'.\n",
    "\n",
    "Dengan langkah-langkah di atas, data telah dibersihkan dan siap untuk digunakan dalam analisis lebih lanjut."
   ]
  },
  {
   "cell_type": "code",
   "execution_count": 110,
   "metadata": {},
   "outputs": [],
   "source": [
    "# save data\n",
    "df.to_csv('../data/Student Depression Dataset Cleaned.csv', index=False)"
   ]
  }
 ],
 "metadata": {
  "kernelspec": {
   "display_name": "base",
   "language": "python",
   "name": "python3"
  },
  "language_info": {
   "codemirror_mode": {
    "name": "ipython",
    "version": 3
   },
   "file_extension": ".py",
   "mimetype": "text/x-python",
   "name": "python",
   "nbconvert_exporter": "python",
   "pygments_lexer": "ipython3",
   "version": "3.12.7"
  }
 },
 "nbformat": 4,
 "nbformat_minor": 2
}
